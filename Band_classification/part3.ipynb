{
 "cells": [
  {
   "cell_type": "markdown",
   "metadata": {},
   "source": [
    "# Frequency Band "
   ]
  },
  {
   "cell_type": "markdown",
   "metadata": {},
   "source": [
    "classification"
   ]
  },
  {
   "cell_type": "markdown",
   "metadata": {},
   "source": [
    "EEG (Electroencephalography) signals are typically divided into five main frequency bands¹⁴⁵⁶:\n",
    "\n",
    "1. **Gamma (30 – 100 Hz)**: Gamma brain waves are the highest frequency band, and the range is by far the widest. They are involved in higher processing tasks as well as cognitive functioning. Gamma waves are important for learning, memory, and information processing¹⁴.\n",
    "\n",
    "2. **Beta (12 – 30Hz)**: Beta brain waves are sometimes divided further into 3 bands: high beta, beta, and low beta. These are known as high frequency low amplitude brain waves that are commonly observed while we are awake. They are involved in conscious thought, logical thinking, and tend to have a stimulating effect¹⁴.\n",
    "\n",
    "3. **Alpha (8 – 12 Hz)**: Alpha waves are typically associated with relaxed, meditative states. They are present when we are calm and peaceful, but not actively processing information¹⁴.\n",
    "\n",
    "4. **Theta (4 – 8 Hz)**: Theta waves are associated with light sleep or extreme relaxation. They can also occur when we are daydreaming or during some types of meditation¹⁴.\n",
    "\n",
    "5. **Delta (0.5-4 Hz)**: Delta waves are the slowest and are associated with deep, dreamless sleep. They are the dominant rhythm in infants up to one year old, and they appear in stages 3 and 4 of sleep¹⁴.\n",
    "\n",
    "Each of these brain waves serves a unique purpose to aid us in our daily lives. Our brain's ability to transition through these frequencies plays a large role in how successful we are at managing stress, focusing on tasks, and getting a good night's sleep⁴.\n"
   ]
  },
  {
   "cell_type": "code",
   "execution_count": 1,
   "metadata": {},
   "outputs": [
    {
     "name": "stdout",
     "output_type": "stream",
     "text": [
      "Processing completed.\n"
     ]
    }
   ],
   "source": [
    "import os\n",
    "import mne\n",
    "import pandas as pd\n",
    "from scipy.signal import butter, filtfilt\n",
    "\n",
    "# Define frequency bands\n",
    "bands = {'alpha': (8, 13), 'beta': (13, 30), 'theta': (4, 8), 'delta': (0.1, 4)}\n",
    "\n",
    "# Define input and output folders\n",
    "input_folder = 'Final_data'\n",
    "output_folder = 'processed_data'\n",
    "\n",
    "# Create the output folder if it doesn't exist\n",
    "if not os.path.exists(output_folder):\n",
    "    os.makedirs(output_folder)\n",
    "\n",
    "# Iterate through subjects\n",
    "for subject_folder in os.listdir(input_folder):\n",
    "    subject_path = os.path.join(input_folder, subject_folder)\n",
    "    \n",
    "    if os.path.isdir(subject_path):\n",
    "        subject_output_folder = os.path.join(output_folder, subject_folder)\n",
    "        if not os.path.exists(subject_output_folder):\n",
    "            os.makedirs(subject_output_folder)\n",
    "\n",
    "        # Iterate through sessions\n",
    "        for session in [2, 4, 6]:\n",
    "            for state in ['BL', 'MA']:\n",
    "                # Iterate through frequency bands\n",
    "                for band_name, (low, high) in bands.items():\n",
    "                    input_file = f'session_{session}_{state}.csv'\n",
    "                    output_file = f'session_{session}_{state}_{band_name}.csv'\n",
    "                    \n",
    "                    input_path = os.path.join(subject_path, input_file)\n",
    "                    output_path = os.path.join(subject_output_folder, output_file)\n",
    "                    \n",
    "                    # Read CSV file\n",
    "                    data = pd.read_csv(input_path)\n",
    "                    \n",
    "                    # Bandpass filter using Butterworth filter\n",
    "                    fs = 200  # Sampling frequency\n",
    "                    nyquist = 0.5 * fs\n",
    "                    lowcut = low / nyquist\n",
    "                    highcut = high / nyquist\n",
    "                    order = 4  # Filter order\n",
    "\n",
    "                    b, a = butter(order, [lowcut, highcut], btype='band')\n",
    "                    filtered_data = filtfilt(b, a, data.values, axis=0)\n",
    "\n",
    "                    # Save filtered data to a new CSV file\n",
    "                    pd.DataFrame(filtered_data, columns=data.columns).to_csv(output_path, index=False)\n",
    "\n",
    "print(\"Processing completed.\")\n"
   ]
  }
 ],
 "metadata": {
  "kernelspec": {
   "display_name": "Python 3",
   "language": "python",
   "name": "python3"
  },
  "language_info": {
   "codemirror_mode": {
    "name": "ipython",
    "version": 3
   },
   "file_extension": ".py",
   "mimetype": "text/x-python",
   "name": "python",
   "nbconvert_exporter": "python",
   "pygments_lexer": "ipython3",
   "version": "3.11.3"
  }
 },
 "nbformat": 4,
 "nbformat_minor": 2
}
